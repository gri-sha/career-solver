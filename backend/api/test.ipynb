{
 "cells": [
  {
   "cell_type": "code",
   "execution_count": 1,
   "id": "78e1b483",
   "metadata": {},
   "outputs": [],
   "source": [
    "import joblib\n",
    "import pandas as pd\n",
    "import numpy as np\n",
    "import json\n",
    "from pprint import pprint\n"
   ]
  },
  {
   "cell_type": "code",
   "execution_count": 2,
   "id": "bf15937d",
   "metadata": {},
   "outputs": [],
   "source": [
    "reg_model = joblib.load(\"../predict/models/reg_model.pkl\")\n",
    "class_model = joblib.load(\"../predict/models/class_model.pkl\")\n",
    "input_features = joblib.load(\"../predict/features/input_features.pkl\")\n",
    "num_out_features = joblib.load(\"../predict/features/num_out_features.pkl\")\n",
    "cat_out_features = joblib.load(\"../predict/features/cat_out_features.pkl\")"
   ]
  },
  {
   "cell_type": "code",
   "execution_count": 3,
   "id": "e0478598",
   "metadata": {},
   "outputs": [
    {
     "name": "stdout",
     "output_type": "stream",
     "text": [
      "Pipeline(steps=[('preprocessor',\n",
      "                 ColumnTransformer(transformers=[('num',\n",
      "                                                  Pipeline(steps=[('scaler',\n",
      "                                                                   StandardScaler())]),\n",
      "                                                  Index(['Age', 'High_School_GPA', 'SAT_Score', 'University_Ranking',\n",
      "       'University_GPA', 'Internships_Completed', 'Projects_Completed',\n",
      "       'Certifications', 'Soft_Skills_Score', 'Networking_Score',\n",
      "       'Job_Offers'],\n",
      "      dtype='object')),\n",
      "                                                 ('cat',\n",
      "                                                  Pipeline(steps=[('onehot',\n",
      "                                                                   OneHotEncoder())]),\n",
      "                                                  Index(['Gender', 'Field_of_Study', 'Current_Job_Level'], dtype='object'))])),\n",
      "                ('pca', PCA(n_components=0.95)),\n",
      "                ('regressor',\n",
      "                 MultiOutputRegressor(estimator=ElasticNet(random_state=1134)))])\n",
      "<class 'sklearn.pipeline.Pipeline'>\n"
     ]
    }
   ],
   "source": [
    "print(reg_model)\n",
    "print(type(reg_model))"
   ]
  },
  {
   "cell_type": "code",
   "execution_count": 4,
   "id": "2dbcea13",
   "metadata": {},
   "outputs": [
    {
     "name": "stdout",
     "output_type": "stream",
     "text": [
      "Pipeline(steps=[('preprocessor',\n",
      "                 ColumnTransformer(transformers=[('num',\n",
      "                                                  Pipeline(steps=[('scaler',\n",
      "                                                                   StandardScaler())]),\n",
      "                                                  Index(['Age', 'High_School_GPA', 'SAT_Score', 'University_Ranking',\n",
      "       'University_GPA', 'Internships_Completed', 'Projects_Completed',\n",
      "       'Certifications', 'Soft_Skills_Score', 'Networking_Score',\n",
      "       'Job_Offers'],\n",
      "      dtype='object')),\n",
      "                                                 ('cat',\n",
      "                                                  Pipeline(steps=[('onehot',\n",
      "                                                                   OneHotEncoder())]),\n",
      "                                                  Index(['Gender', 'Field_of_Study', 'Current_Job_Level'], dtype='object'))])),\n",
      "                ('pca', PCA(n_components=0.95)),\n",
      "                ('classifier', RandomForestClassifier(random_state=1134))])\n",
      "<class 'sklearn.pipeline.Pipeline'>\n"
     ]
    }
   ],
   "source": [
    "print(class_model)\n",
    "print(type(class_model))"
   ]
  },
  {
   "cell_type": "code",
   "execution_count": 5,
   "id": "afbb23f6",
   "metadata": {},
   "outputs": [
    {
     "name": "stdout",
     "output_type": "stream",
     "text": [
      "['Age', 'Gender', 'High_School_GPA', 'SAT_Score', 'University_Ranking', 'University_GPA', 'Field_of_Study', 'Internships_Completed', 'Projects_Completed', 'Certifications', 'Soft_Skills_Score', 'Networking_Score', 'Job_Offers', 'Current_Job_Level']\n",
      "<class 'list'>\n"
     ]
    }
   ],
   "source": [
    "print(input_features)\n",
    "print(type(input_features))"
   ]
  },
  {
   "cell_type": "code",
   "execution_count": 6,
   "id": "65206585",
   "metadata": {},
   "outputs": [
    {
     "name": "stdout",
     "output_type": "stream",
     "text": [
      "['Starting_Salary', 'Career_Satisfaction', 'Years_to_Promotion', 'Work_Life_Balance']\n",
      "<class 'list'>\n"
     ]
    }
   ],
   "source": [
    "print(num_out_features)\n",
    "print(type(num_out_features))"
   ]
  },
  {
   "cell_type": "code",
   "execution_count": 7,
   "id": "b1e1eab9",
   "metadata": {},
   "outputs": [
    {
     "name": "stdout",
     "output_type": "stream",
     "text": [
      "['Entrepreneurship']\n",
      "<class 'list'>\n"
     ]
    }
   ],
   "source": [
    "print(cat_out_features)\n",
    "print(type(cat_out_features))"
   ]
  },
  {
   "cell_type": "code",
   "execution_count": 8,
   "id": "db9cc10f",
   "metadata": {},
   "outputs": [],
   "source": [
    "data = {\n",
    "    \"Age\": 23,\n",
    "    \"Gender\": \"Male\",\n",
    "    \"High_School_GPA\": 0.8,\n",
    "    \"SAT_Score\": 0.914,\n",
    "    \"University_Ranking\": 0.23,\n",
    "    \"University_GPA\": 0.85,\n",
    "    \"Field_of_Study\": \"Computer Science\",\n",
    "    \"Internships_Completed\": 2,\n",
    "    \"Projects_Completed\": 5,\n",
    "    \"Certifications\": 3,\n",
    "    \"Soft_Skills_Score\": 7.8,\n",
    "    \"Networking_Score\": 6.5,\n",
    "    \"Job_Offers\": 1,\n",
    "    \"Current_Job_Level\": \"Entry\",\n",
    "}"
   ]
  },
  {
   "cell_type": "code",
   "execution_count": 9,
   "id": "8a4fa7d2",
   "metadata": {},
   "outputs": [
    {
     "name": "stdout",
     "output_type": "stream",
     "text": [
      "<class 'int'>\n",
      "<class 'str'>\n",
      "<class 'float'>\n",
      "<class 'float'>\n",
      "<class 'float'>\n",
      "<class 'float'>\n",
      "<class 'str'>\n",
      "<class 'int'>\n",
      "<class 'int'>\n",
      "<class 'int'>\n",
      "<class 'float'>\n",
      "<class 'float'>\n",
      "<class 'int'>\n",
      "<class 'str'>\n"
     ]
    }
   ],
   "source": [
    "with open(\"../predict/features/feature_types.json\") as f:\n",
    "    feature_types = json.load(f)\n",
    "\n",
    "type_map = {\n",
    "    \"int\": int,\n",
    "    \"float\": float,\n",
    "    \"str\": str\n",
    "}\n",
    "\n",
    "processed_data = []\n",
    "for feature in input_features:\n",
    "    value = data[feature]\n",
    "    data_type = type_map[feature_types[feature]]\n",
    "    print(data_type)\n",
    "    processed_data.append(data_type(value))\n",
    "\n",
    "input_df = pd.DataFrame([processed_data], columns=input_features)\n"
   ]
  },
  {
   "cell_type": "code",
   "execution_count": 10,
   "id": "b29eaf04",
   "metadata": {},
   "outputs": [
    {
     "name": "stdout",
     "output_type": "stream",
     "text": [
      "<class 'pandas.core.frame.DataFrame'>\n",
      "RangeIndex: 1 entries, 0 to 0\n",
      "Data columns (total 14 columns):\n",
      " #   Column                 Non-Null Count  Dtype  \n",
      "---  ------                 --------------  -----  \n",
      " 0   Age                    1 non-null      int64  \n",
      " 1   Gender                 1 non-null      object \n",
      " 2   High_School_GPA        1 non-null      float64\n",
      " 3   SAT_Score              1 non-null      float64\n",
      " 4   University_Ranking     1 non-null      float64\n",
      " 5   University_GPA         1 non-null      float64\n",
      " 6   Field_of_Study         1 non-null      object \n",
      " 7   Internships_Completed  1 non-null      int64  \n",
      " 8   Projects_Completed     1 non-null      int64  \n",
      " 9   Certifications         1 non-null      int64  \n",
      " 10  Soft_Skills_Score      1 non-null      float64\n",
      " 11  Networking_Score       1 non-null      float64\n",
      " 12  Job_Offers             1 non-null      int64  \n",
      " 13  Current_Job_Level      1 non-null      object \n",
      "dtypes: float64(6), int64(5), object(3)\n",
      "memory usage: 240.0+ bytes\n"
     ]
    }
   ],
   "source": [
    "input_df.info()"
   ]
  },
  {
   "cell_type": "code",
   "execution_count": 11,
   "id": "ed1ffc0b",
   "metadata": {},
   "outputs": [
    {
     "name": "stdout",
     "output_type": "stream",
     "text": [
      "[[5.06942208e+04 5.61075000e+00 3.01625000e+00 5.48675000e+00]]\n",
      "<class 'numpy.ndarray'>\n"
     ]
    }
   ],
   "source": [
    "reg_pred = reg_model.predict(input_df)\n",
    "print(reg_pred)\n",
    "print(type(reg_pred))"
   ]
  },
  {
   "cell_type": "code",
   "execution_count": 12,
   "id": "bff8f6b4",
   "metadata": {},
   "outputs": [
    {
     "name": "stdout",
     "output_type": "stream",
     "text": [
      "[['No']]\n",
      "<class 'numpy.ndarray'>\n"
     ]
    }
   ],
   "source": [
    "class_pred = class_model.predict(input_df).reshape(1, -1)\n",
    "print(class_pred)\n",
    "print(type(class_pred))"
   ]
  },
  {
   "cell_type": "code",
   "execution_count": 13,
   "id": "98fe4666",
   "metadata": {},
   "outputs": [
    {
     "name": "stdout",
     "output_type": "stream",
     "text": [
      "{'Career_Satisfaction': np.float64(5.61075),\n",
      " 'Entrepreneurship': array(['No'], dtype=object),\n",
      " 'Starting_Salary': np.float64(50694.220813800304),\n",
      " 'Work_Life_Balance': np.float64(5.48675),\n",
      " 'Years_to_Promotion': np.float64(3.01625)}\n"
     ]
    }
   ],
   "source": [
    "res = {}\n",
    "for i, feature in enumerate(num_out_features):\n",
    "    res[feature] = reg_pred[0][i]\n",
    "for i, feature in enumerate(cat_out_features):\n",
    "    res[feature] = class_pred[i]\n",
    "\n",
    "# res = clean(res)\n",
    "\n",
    "pprint(res)\n"
   ]
  },
  {
   "cell_type": "code",
   "execution_count": 14,
   "id": "1bcaa112",
   "metadata": {},
   "outputs": [],
   "source": [
    "def clean(obj):\n",
    "    # convertion to standard data types from numpy datatypes\n",
    "    for k, v in obj.items():\n",
    "        obj[k] = round(v.item()) if type(v.item()) == float else v.item()"
   ]
  },
  {
   "cell_type": "code",
   "execution_count": 15,
   "id": "061e7e43",
   "metadata": {},
   "outputs": [
    {
     "name": "stdout",
     "output_type": "stream",
     "text": [
      "{'Career_Satisfaction': 6,\n",
      " 'Entrepreneurship': 'No',\n",
      " 'Starting_Salary': 50694,\n",
      " 'Work_Life_Balance': 5,\n",
      " 'Years_to_Promotion': 3}\n"
     ]
    }
   ],
   "source": [
    "clean(res)\n",
    "pprint(res)"
   ]
  }
 ],
 "metadata": {
  "kernelspec": {
   "display_name": "ml_ds",
   "language": "python",
   "name": "python3"
  },
  "language_info": {
   "codemirror_mode": {
    "name": "ipython",
    "version": 3
   },
   "file_extension": ".py",
   "mimetype": "text/x-python",
   "name": "python",
   "nbconvert_exporter": "python",
   "pygments_lexer": "ipython3",
   "version": "3.9.6"
  }
 },
 "nbformat": 4,
 "nbformat_minor": 5
}
