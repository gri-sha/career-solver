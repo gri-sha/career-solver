{
 "cells": [
  {
   "cell_type": "code",
   "execution_count": 34,
   "id": "78e1b483",
   "metadata": {},
   "outputs": [],
   "source": [
    "import joblib\n",
    "import pandas as pd\n",
    "import numpy as np\n",
    "import json\n",
    "from pprint import pprint\n"
   ]
  },
  {
   "cell_type": "code",
   "execution_count": 35,
   "id": "bf15937d",
   "metadata": {},
   "outputs": [],
   "source": [
    "reg_model = joblib.load(\"../predict/models/reg_model.pkl\")\n",
    "class_model = joblib.load(\"../predict/models/class_model.pkl\")\n",
    "input_features = joblib.load(\"../predict/features/input_features.pkl\")\n",
    "num_out_features = joblib.load(\"../predict/features/num_out_features.pkl\")\n",
    "cat_out_features = joblib.load(\"../predict/features/cat_out_features.pkl\")"
   ]
  },
  {
   "cell_type": "code",
   "execution_count": 36,
   "id": "e0478598",
   "metadata": {},
   "outputs": [
    {
     "name": "stdout",
     "output_type": "stream",
     "text": [
      "Pipeline(steps=[('preprocessor',\n",
      "                 ColumnTransformer(transformers=[('num',\n",
      "                                                  Pipeline(steps=[('scaler',\n",
      "                                                                   StandardScaler())]),\n",
      "                                                  Index(['age', 'high_school_gpa', 'sat_score', 'university_ranking',\n",
      "       'university_gpa', 'internships', 'projects', 'certifications',\n",
      "       'soft_skills_score', 'networking_score', 'job_offers'],\n",
      "      dtype='object')),\n",
      "                                                 ('cat',\n",
      "                                                  Pipeline(steps=[('onehot',\n",
      "                                                                   OneHotEncoder())]),\n",
      "                                                  Index(['gender', 'field_of_study', 'current_job_level'], dtype='object'))])),\n",
      "                ('pca', PCA(n_components=0.95)),\n",
      "                ('regressor',\n",
      "                 MultiOutputRegressor(estimator=ElasticNet(random_state=1134)))])\n",
      "<class 'sklearn.pipeline.Pipeline'>\n"
     ]
    }
   ],
   "source": [
    "print(reg_model)\n",
    "print(type(reg_model))"
   ]
  },
  {
   "cell_type": "code",
   "execution_count": 37,
   "id": "2dbcea13",
   "metadata": {},
   "outputs": [
    {
     "name": "stdout",
     "output_type": "stream",
     "text": [
      "Pipeline(steps=[('preprocessor',\n",
      "                 ColumnTransformer(transformers=[('num',\n",
      "                                                  Pipeline(steps=[('scaler',\n",
      "                                                                   StandardScaler())]),\n",
      "                                                  Index(['age', 'high_school_gpa', 'sat_score', 'university_ranking',\n",
      "       'university_gpa', 'internships', 'projects', 'certifications',\n",
      "       'soft_skills_score', 'networking_score', 'job_offers'],\n",
      "      dtype='object')),\n",
      "                                                 ('cat',\n",
      "                                                  Pipeline(steps=[('onehot',\n",
      "                                                                   OneHotEncoder())]),\n",
      "                                                  Index(['gender', 'field_of_study', 'current_job_level'], dtype='object'))])),\n",
      "                ('pca', PCA(n_components=0.95)),\n",
      "                ('classifier', RandomForestClassifier(random_state=1134))])\n",
      "<class 'sklearn.pipeline.Pipeline'>\n"
     ]
    }
   ],
   "source": [
    "print(class_model)\n",
    "print(type(class_model))"
   ]
  },
  {
   "cell_type": "code",
   "execution_count": 38,
   "id": "afbb23f6",
   "metadata": {},
   "outputs": [
    {
     "name": "stdout",
     "output_type": "stream",
     "text": [
      "['age', 'gender', 'high_school_gpa', 'sat_score', 'university_ranking', 'university_gpa', 'field_of_study', 'internships', 'projects', 'certifications', 'soft_skills_score', 'networking_score', 'job_offers', 'current_job_level']\n",
      "<class 'list'>\n"
     ]
    }
   ],
   "source": [
    "print(input_features)\n",
    "print(type(input_features))"
   ]
  },
  {
   "cell_type": "code",
   "execution_count": 39,
   "id": "65206585",
   "metadata": {},
   "outputs": [
    {
     "name": "stdout",
     "output_type": "stream",
     "text": [
      "['starting_salary', 'career_satisfaction', 'years_to_promotion', 'work_life_balance']\n",
      "<class 'list'>\n"
     ]
    }
   ],
   "source": [
    "print(num_out_features)\n",
    "print(type(num_out_features))"
   ]
  },
  {
   "cell_type": "code",
   "execution_count": 40,
   "id": "b1e1eab9",
   "metadata": {},
   "outputs": [
    {
     "name": "stdout",
     "output_type": "stream",
     "text": [
      "['entrepreneurship']\n",
      "<class 'list'>\n"
     ]
    }
   ],
   "source": [
    "print(cat_out_features)\n",
    "print(type(cat_out_features))"
   ]
  },
  {
   "cell_type": "code",
   "execution_count": 41,
   "id": "db9cc10f",
   "metadata": {},
   "outputs": [],
   "source": [
    "data = {\n",
    "    \"age\": 23,\n",
    "    \"gender\": \"Male\",\n",
    "    \"high_school_gpa\": 0.8,\n",
    "    \"sat_score\": 0.914,\n",
    "    \"university_ranking\": 0.23,\n",
    "    \"university_gpa\": 0.85,\n",
    "    \"field_of_study\": \"Computer Science\",\n",
    "    \"internships\": 2,\n",
    "    \"projects\": 5,\n",
    "    \"certifications\": 3,\n",
    "    \"soft_skills_score\": 7.8,\n",
    "    \"networking_score\": 6.5,\n",
    "    \"job_offers\": 1,\n",
    "    \"current_job_level\": \"Entry\",\n",
    "}"
   ]
  },
  {
   "cell_type": "code",
   "execution_count": null,
   "id": "8a4fa7d2",
   "metadata": {},
   "outputs": [
    {
     "name": "stdout",
     "output_type": "stream",
     "text": [
      "<class 'int'>\n",
      "<class 'str'>\n",
      "<class 'float'>\n",
      "<class 'float'>\n",
      "<class 'float'>\n",
      "<class 'float'>\n",
      "<class 'str'>\n",
      "<class 'int'>\n",
      "<class 'int'>\n",
      "<class 'int'>\n",
      "<class 'float'>\n",
      "<class 'float'>\n",
      "<class 'int'>\n",
      "<class 'str'>\n"
     ]
    }
   ],
   "source": [
    "with open(\"../predict/features/feature_types.json\") as f:\n",
    "    feature_types = json.load(f)\n",
    "\n",
    "type_map = {\n",
    "    \"int\": int,\n",
    "    \"float\": float,\n",
    "    \"str\": str,\n",
    "    \"bool\": bool\n",
    "}\n",
    "\n",
    "processed_data = []\n",
    "for feature in input_features:\n",
    "    value = data[feature]\n",
    "    data_type = type_map[feature_types[feature]]\n",
    "    print(data_type)\n",
    "    processed_data.append(data_type(value))\n",
    "\n",
    "input_df = pd.DataFrame([processed_data], columns=input_features)\n"
   ]
  },
  {
   "cell_type": "code",
   "execution_count": 43,
   "id": "b29eaf04",
   "metadata": {},
   "outputs": [
    {
     "name": "stdout",
     "output_type": "stream",
     "text": [
      "<class 'pandas.core.frame.DataFrame'>\n",
      "RangeIndex: 1 entries, 0 to 0\n",
      "Data columns (total 14 columns):\n",
      " #   Column              Non-Null Count  Dtype  \n",
      "---  ------              --------------  -----  \n",
      " 0   age                 1 non-null      int64  \n",
      " 1   gender              1 non-null      object \n",
      " 2   high_school_gpa     1 non-null      float64\n",
      " 3   sat_score           1 non-null      float64\n",
      " 4   university_ranking  1 non-null      float64\n",
      " 5   university_gpa      1 non-null      float64\n",
      " 6   field_of_study      1 non-null      object \n",
      " 7   internships         1 non-null      int64  \n",
      " 8   projects            1 non-null      int64  \n",
      " 9   certifications      1 non-null      int64  \n",
      " 10  soft_skills_score   1 non-null      float64\n",
      " 11  networking_score    1 non-null      float64\n",
      " 12  job_offers          1 non-null      int64  \n",
      " 13  current_job_level   1 non-null      object \n",
      "dtypes: float64(6), int64(5), object(3)\n",
      "memory usage: 240.0+ bytes\n"
     ]
    }
   ],
   "source": [
    "input_df.info()"
   ]
  },
  {
   "cell_type": "code",
   "execution_count": 44,
   "id": "ed1ffc0b",
   "metadata": {},
   "outputs": [
    {
     "name": "stdout",
     "output_type": "stream",
     "text": [
      "[[5.06942208e+04 5.61075000e+00 3.01625000e+00 5.48675000e+00]]\n",
      "<class 'numpy.ndarray'>\n"
     ]
    }
   ],
   "source": [
    "reg_pred = reg_model.predict(input_df)\n",
    "print(reg_pred)\n",
    "print(type(reg_pred))"
   ]
  },
  {
   "cell_type": "code",
   "execution_count": 45,
   "id": "bff8f6b4",
   "metadata": {},
   "outputs": [
    {
     "name": "stdout",
     "output_type": "stream",
     "text": [
      "[['No']]\n",
      "<class 'numpy.ndarray'>\n"
     ]
    }
   ],
   "source": [
    "class_pred = class_model.predict(input_df).reshape(1, -1)\n",
    "print(class_pred)\n",
    "print(type(class_pred))"
   ]
  },
  {
   "cell_type": "code",
   "execution_count": 46,
   "id": "98fe4666",
   "metadata": {},
   "outputs": [
    {
     "name": "stdout",
     "output_type": "stream",
     "text": [
      "{'career_satisfaction': np.float64(5.61075),\n",
      " 'entrepreneurship': array(['No'], dtype=object),\n",
      " 'starting_salary': np.float64(50694.220813800304),\n",
      " 'work_life_balance': np.float64(5.48675),\n",
      " 'years_to_promotion': np.float64(3.01625)}\n"
     ]
    }
   ],
   "source": [
    "res = {}\n",
    "for i, feature in enumerate(num_out_features):\n",
    "    res[feature] = reg_pred[0][i]\n",
    "for i, feature in enumerate(cat_out_features):\n",
    "    res[feature] = class_pred[i]\n",
    "\n",
    "# res = clean(res)\n",
    "\n",
    "pprint(res)\n"
   ]
  },
  {
   "cell_type": "code",
   "execution_count": 47,
   "id": "1bcaa112",
   "metadata": {},
   "outputs": [],
   "source": [
    "def clean(obj):\n",
    "    # convertion to standard data types from numpy datatypes\n",
    "    for k, v in obj.items():\n",
    "        obj[k] = round(v.item()) if type(v.item()) == float else v.item()"
   ]
  },
  {
   "cell_type": "code",
   "execution_count": 48,
   "id": "061e7e43",
   "metadata": {},
   "outputs": [
    {
     "name": "stdout",
     "output_type": "stream",
     "text": [
      "{'career_satisfaction': 6,\n",
      " 'entrepreneurship': 'No',\n",
      " 'starting_salary': 50694,\n",
      " 'work_life_balance': 5,\n",
      " 'years_to_promotion': 3}\n"
     ]
    }
   ],
   "source": [
    "clean(res)\n",
    "pprint(res)"
   ]
  }
 ],
 "metadata": {
  "kernelspec": {
   "display_name": "ml_ds",
   "language": "python",
   "name": "python3"
  },
  "language_info": {
   "codemirror_mode": {
    "name": "ipython",
    "version": 3
   },
   "file_extension": ".py",
   "mimetype": "text/x-python",
   "name": "python",
   "nbconvert_exporter": "python",
   "pygments_lexer": "ipython3",
   "version": "3.9.6"
  }
 },
 "nbformat": 4,
 "nbformat_minor": 5
}
